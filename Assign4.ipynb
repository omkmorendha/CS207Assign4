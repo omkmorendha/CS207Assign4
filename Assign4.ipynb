{
  "nbformat": 4,
  "nbformat_minor": 0,
  "metadata": {
    "colab": {
      "name": "Assign4.ipynb",
      "provenance": [],
      "collapsed_sections": [],
      "authorship_tag": "ABX9TyNfRS4GYreaeidrgtkTHVkP",
      "include_colab_link": true
    },
    "kernelspec": {
      "name": "python3",
      "display_name": "Python 3"
    },
    "language_info": {
      "name": "python"
    }
  },
  "cells": [
    {
      "cell_type": "markdown",
      "metadata": {
        "id": "view-in-github",
        "colab_type": "text"
      },
      "source": [
        "<a href=\"https://colab.research.google.com/github/omkmorendha/CS207Assign4/blob/main/Assign4.ipynb\" target=\"_parent\"><img src=\"https://colab.research.google.com/assets/colab-badge.svg\" alt=\"Open In Colab\"/></a>"
      ]
    },
    {
      "cell_type": "code",
      "metadata": {
        "colab": {
          "base_uri": "https://localhost:8080/"
        },
        "id": "B4V1ADGX1-eS",
        "outputId": "03e1b1de-dfb0-4165-a207-9d678fe544ae"
      },
      "source": [
        "class node:\n",
        "  def __init__(self, data = None):\n",
        "    self.data = data\n",
        "    self.next = None\n",
        "\n",
        "  def __del__(self):\n",
        "    print(\"Node Deleted\")\n",
        "\n",
        "class stack:\n",
        "  def __init__(self):\n",
        "    self.head = None\n",
        "\n",
        "  def empty(self):\n",
        "    if (self.head == None):\n",
        "      print(\"Stack is empty\")\n",
        "    else:\n",
        "      print(\"Stack is non-empty\")\n",
        "    \n",
        "  def del_node(self):\n",
        "    self.head = self.head.next\n",
        "  \n",
        "  def printl(self):\n",
        "    n = self.head\n",
        "    while n is not None:\n",
        "      print(n.data)\n",
        "      n = n.next\n",
        "\n",
        "stk = stack()\n",
        "stk.head = node(\"A\")\n",
        "n1 = node('B')\n",
        "n2 = node('C')\n",
        "\n",
        "stk.head.next = n1\n",
        "n1.next = n2\n",
        "\n",
        "stk.printl()\n",
        "stk.del_node()\n",
        "stk.printl()\n",
        "stk.del_node()\n",
        "stk.del_node()\n",
        "stk.empty()\n",
        "\n",
        "del n1, n2\n"
      ],
      "execution_count": 18,
      "outputs": [
        {
          "output_type": "stream",
          "name": "stdout",
          "text": [
            "Node Deleted\n",
            "A\n",
            "B\n",
            "C\n",
            "Node Deleted\n",
            "B\n",
            "C\n",
            "Stack is empty\n",
            "Node Deleted\n",
            "Node Deleted\n"
          ]
        }
      ]
    },
    {
      "cell_type": "code",
      "metadata": {
        "colab": {
          "base_uri": "https://localhost:8080/"
        },
        "id": "XBMUoJCx7Wzj",
        "outputId": "85fc9960-f212-4b2c-b166-7ec3023c9d56"
      },
      "source": [
        "class rectangle:\n",
        "  def __init__(self, l = 40, b = 50):\n",
        "    self.l = l\n",
        "    self.b = b\n",
        "    self.area = l * b\n",
        "\n",
        "r1 = rectangle()\n",
        "r2 = rectangle(70, 80)\n",
        "\n",
        "print(r1.area)\n",
        "print(r2.area)"
      ],
      "execution_count": 20,
      "outputs": [
        {
          "output_type": "stream",
          "name": "stdout",
          "text": [
            "2000\n",
            "5600\n"
          ]
        }
      ]
    },
    {
      "cell_type": "code",
      "metadata": {
        "colab": {
          "base_uri": "https://localhost:8080/"
        },
        "id": "MGDzzcom8qqh",
        "outputId": "71c809d4-e4d8-43c6-b742-6e327f234f74"
      },
      "source": [
        "class node:\n",
        "  def __init__(self, data = None):\n",
        "    self.data = data\n",
        "    self.next = None\n",
        "\n",
        "  def __del__(self):\n",
        "    print(\"Node Deleted\")\n",
        "\n",
        "class queue:\n",
        "  def __init__(self):\n",
        "    self.head = None\n",
        "    self.end = None\n",
        "  \n",
        "  def addnode(self, data): \n",
        "    n = node(data)\n",
        "\n",
        "    if (self.head != None):  \n",
        "      self.end.next = n\n",
        "      self.end = n\n",
        "    else:\n",
        "      self.head = n\n",
        "      self.end = n\n",
        "\n",
        "  def printl(self):\n",
        "    n = self.head\n",
        "    while n is not None:\n",
        "      print(n.data)\n",
        "      n = n.next\n",
        "  \n",
        "  def delnode(self):\n",
        "    self.head = self.head.next\n",
        "\n",
        "q1 = queue()\n",
        "q1.addnode('A')\n",
        "q1.addnode('B')\n",
        "q1.addnode('C')\n",
        "\n",
        "q1.delnode()\n",
        "q1.addnode('D')\n",
        "q1.printl()\n",
        "\n",
        "del q1.head"
      ],
      "execution_count": 27,
      "outputs": [
        {
          "output_type": "stream",
          "name": "stdout",
          "text": [
            "Node Deleted\n",
            "Node Deleted\n",
            "B\n",
            "C\n",
            "D\n"
          ]
        }
      ]
    }
  ]
}